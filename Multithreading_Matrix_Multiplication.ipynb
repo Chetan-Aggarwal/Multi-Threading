{
 "cells": [
  {
   "cell_type": "markdown",
   "metadata": {
    "colab_type": "text",
    "id": "view-in-github"
   },
   "source": [
    "<a href=\"https://colab.research.google.com/github/praneykalra16/Multithreading-matrix-multiplication/blob/main/Multithreading_Matrix_Multiplication.ipynb\" target=\"_parent\"><img src=\"https://colab.research.google.com/assets/colab-badge.svg\" alt=\"Open In Colab\"/></a>"
   ]
  },
  {
   "cell_type": "code",
   "execution_count": null,
   "metadata": {
    "id": "xhDM1TmC9KK6"
   },
   "outputs": [],
   "source": [
    "import numpy as np\n",
    "import time\n",
    "import multiprocessing\n",
    "import pandas as pd\n",
    "import matplotlib.pyplot as plt\n",
    "import psutil"
   ]
  },
  {
   "cell_type": "code",
   "execution_count": null,
   "metadata": {
    "id": "6LSzLgdm9MdR"
   },
   "outputs": [],
   "source": [
    "# Function to perform matrix multiplication with a constant matrix\n",
    "def matrix_multiply(constant_matrix, num_threads):\n",
    "    # Generate random matrix of size 1000x1000\n",
    "    random_matrix = np.random.rand(5000,5000)\n",
    "    # Start timing\n",
    "    start_time = time.time()\n",
    "    # Multiply random matrix with constant matrix using the specified number of threads\n",
    "    np.dot(random_matrix, constant_matrix)\n",
    "    # End timing\n",
    "    end_time = time.time()\n",
    "    # Calculate time taken\n",
    "    time_taken = end_time - start_time\n",
    "    cpu_usage = psutil.cpu_percent()\n",
    "    print(f\"CPU usage: {cpu_usage}%\")\n",
    "    return time_taken"
   ]
  },
  {
   "cell_type": "code",
   "execution_count": null,
   "metadata": {
    "id": "awhU7ZX29PnU"
   },
   "outputs": [],
   "source": [
    "# Generate constant matrix of size 1000x1000\n",
    "constant_matrix = np.random.rand(5000, 5000)\n",
    "\n",
    "# Define the number of threads\n",
    "num_threads = [1, 2, 3, 4, 5, 6, 7, 8]"
   ]
  },
  {
   "cell_type": "code",
   "execution_count": null,
   "metadata": {
    "colab": {
     "base_uri": "https://localhost:8080/"
    },
    "id": "t4uV6QyR9Uuc",
    "outputId": "d9d958ec-78a6-46bb-cbfb-21de07fb0253"
   },
   "outputs": [],
   "source": [
    "# Perform matrix multiplication with different number of threads\n",
    "time_taken_list = []\n",
    "for t in num_threads:\n",
    "    time_taken = matrix_multiply(constant_matrix, t)\n",
    "    time_taken_list.append(time_taken)\n",
    "\n",
    "result_df = pd.DataFrame({'Threads': num_threads, 'Time Taken (Sec)': time_taken_list})\n"
   ]
  },
  {
   "cell_type": "code",
   "execution_count": null,
   "metadata": {
    "colab": {
     "base_uri": "https://localhost:8080/",
     "height": 564
    },
    "id": "QH4ghRpI9Vc6",
    "outputId": "a88acc25-137b-4058-f21b-ba6210b55570"
   },
   "outputs": [],
   "source": [
    "# Plot the graph\n",
    "plt.figure(figsize=(10, 6))\n",
    "plt.plot(num_threads, time_taken_list, marker='o')\n",
    "plt.title('Matrix Multiplication Time vs. Number of Threads')\n",
    "plt.xlabel('Number of Threads')\n",
    "plt.ylabel('Time Taken (Seconds)')\n",
    "plt.grid(True)\n",
    "plt.show()"
   ]
  },
  {
   "cell_type": "code",
   "execution_count": null,
   "metadata": {
    "colab": {
     "base_uri": "https://localhost:8080/"
    },
    "id": "FUOHD0vY9bem",
    "outputId": "4d6dc0db-8ad2-49e3-a21c-77816f50b453"
   },
   "outputs": [],
   "source": [
    "# Display the result table\n",
    "print(\"\\nResult Table:\")\n",
    "print(result_df)"
   ]
  }
 ],
 "metadata": {
  "colab": {
   "authorship_tag": "ABX9TyPiHfKClTik24UQmYNIpM/l",
   "include_colab_link": true,
   "provenance": []
  },
  "kernelspec": {
   "display_name": "Python 3 (ipykernel)",
   "language": "python",
   "name": "python3"
  },
  "language_info": {
   "codemirror_mode": {
    "name": "ipython",
    "version": 3
   },
   "file_extension": ".py",
   "mimetype": "text/x-python",
   "name": "python",
   "nbconvert_exporter": "python",
   "pygments_lexer": "ipython3",
   "version": "3.11.5"
  }
 },
 "nbformat": 4,
 "nbformat_minor": 1
}
